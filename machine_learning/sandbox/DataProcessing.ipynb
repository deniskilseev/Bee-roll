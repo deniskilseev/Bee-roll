{
 "cells": [
  {
   "cell_type": "code",
   "execution_count": 1,
   "id": "f8d4d329-0d08-4b5a-90e4-c380a85d797a",
   "metadata": {},
   "outputs": [],
   "source": [
    "import pandas as pd\n",
    "import numpy as np\n",
    "from tqdm import tqdm\n",
    "from datetime import datetime"
   ]
  },
  {
   "cell_type": "code",
   "execution_count": 2,
   "id": "98858050-9b6a-436d-ba7b-e5e8cb46fccb",
   "metadata": {},
   "outputs": [],
   "source": [
    "movies = pd.read_csv(\"../data/movies.csv\")\n",
    "ratings = pd.read_csv(\"../data/ratings.csv\")\n",
    "movie_ratings = ratings.merge(movies, on=\"movieId\")"
   ]
  },
  {
   "cell_type": "code",
   "execution_count": 6,
   "id": "cc5be8f2-f0a9-488c-a12f-85239741d4b0",
   "metadata": {},
   "outputs": [
    {
     "name": "stdout",
     "output_type": "stream",
     "text": [
      "userId                                 1\n",
      "movieId                              296\n",
      "rating                               5.0\n",
      "timestamp                     1147880044\n",
      "title                Pulp Fiction (1994)\n",
      "genres       Comedy|Crime|Drama|Thriller\n",
      "Name: 0, dtype: object\n"
     ]
    }
   ],
   "source": [
    "for user_id in movie_ratings[\"userId\"].unique():\n",
    "    user_ratings = movie_ratings[movie_ratings[\"userId\"] == user_id]\n",
    "    for id, row in user_ratings.iterrows():\n",
    "        print(row)\n",
    "        break\n",
    "    break"
   ]
  }
 ],
 "metadata": {
  "kernelspec": {
   "display_name": "Python 3 (ipykernel)",
   "language": "python",
   "name": "python3"
  },
  "language_info": {
   "codemirror_mode": {
    "name": "ipython",
    "version": 3
   },
   "file_extension": ".py",
   "mimetype": "text/x-python",
   "name": "python",
   "nbconvert_exporter": "python",
   "pygments_lexer": "ipython3",
   "version": "3.11.7"
  }
 },
 "nbformat": 4,
 "nbformat_minor": 5
}
