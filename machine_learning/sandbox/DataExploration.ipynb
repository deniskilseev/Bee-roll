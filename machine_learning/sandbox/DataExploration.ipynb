{
 "cells": [
  {
   "cell_type": "code",
   "execution_count": 1,
   "id": "3f3f97cb-aab0-40a7-84f2-223b7599bc64",
   "metadata": {},
   "outputs": [],
   "source": [
    "import pandas as pd\n",
    "import numpy as np"
   ]
  },
  {
   "cell_type": "code",
   "execution_count": 2,
   "id": "97a7fd2f-6f50-4352-a0b3-d2586bb8ea88",
   "metadata": {},
   "outputs": [],
   "source": [
    "movies = pd.read_csv(\"../data/movies.csv\")"
   ]
  },
  {
   "cell_type": "code",
   "execution_count": 3,
   "id": "a80b4da9-5a76-4197-a149-414c8d0032b4",
   "metadata": {},
   "outputs": [],
   "source": [
    "ratings = pd.read_csv(\"../data/ratings.csv\")"
   ]
  },
  {
   "cell_type": "code",
   "execution_count": 4,
   "id": "8833f928-3a1e-494a-aa7c-09e6ec7a36a9",
   "metadata": {},
   "outputs": [],
   "source": [
    "movie_ratings = ratings.merge(movies, on=\"movieId\")"
   ]
  },
  {
   "cell_type": "code",
   "execution_count": 5,
   "id": "850b0c86-5fae-4265-ab96-2ba8f9f57f6d",
   "metadata": {},
   "outputs": [],
   "source": [
    "n_reviews = movie_ratings[\"timestamp\"].value_counts().reset_index()"
   ]
  },
  {
   "cell_type": "code",
   "execution_count": 6,
   "id": "3885da81-1fa6-46a6-85b2-97c10dbc5477",
   "metadata": {},
   "outputs": [
    {
     "name": "stdout",
     "output_type": "stream",
     "text": [
      "0.8 of data has timestamp less than 1466837397\n"
     ]
    }
   ],
   "source": [
    "timestamp_l = 0\n",
    "timestamp_r = n_reviews[\"timestamp\"].max()\n",
    "total_sum = n_reviews[\"count\"].sum()\n",
    "fraction = 0.8\n",
    "while timestamp_l + 1 < timestamp_r:\n",
    "    timestamp_mid = (timestamp_l + timestamp_r) // 2\n",
    "    current_sum = n_reviews[n_reviews[\"timestamp\"] < timestamp_mid][\"count\"].sum()\n",
    "    if current_sum < (fraction * total_sum):\n",
    "        timestamp_l = timestamp_mid\n",
    "    else:\n",
    "        timestamp_r = timestamp_mid\n",
    "print(f\"{fraction} of data has timestamp less than {timestamp_l}\")"
   ]
  },
  {
   "cell_type": "markdown",
   "id": "3abd3689-ce0f-4c4a-9ec7-a64a3df63e04",
   "metadata": {},
   "source": [
    "# If Train and Validation\n",
    "## Train Time Margin:\n",
    "timestamp < 1421944985\n",
    "## Test Time Margin:\n",
    "1421944985 <= timestamp < 1515033908\n",
    "## Validation Time Margin:\n",
    "1515033908 <= timestamp\n",
    "# If just Validation\n",
    "## Train Time Margin:\n",
    "timestamp < 1466837397\n",
    "## Validation Time Margin:\n",
    "1466837397 <= timestamp"
   ]
  }
 ],
 "metadata": {
  "kernelspec": {
   "display_name": "Python 3 (ipykernel)",
   "language": "python",
   "name": "python3"
  },
  "language_info": {
   "codemirror_mode": {
    "name": "ipython",
    "version": 3
   },
   "file_extension": ".py",
   "mimetype": "text/x-python",
   "name": "python",
   "nbconvert_exporter": "python",
   "pygments_lexer": "ipython3",
   "version": "3.11.7"
  }
 },
 "nbformat": 4,
 "nbformat_minor": 5
}
