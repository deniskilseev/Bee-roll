{
 "cells": [
  {
   "cell_type": "code",
   "execution_count": 1,
   "id": "3f3f97cb-aab0-40a7-84f2-223b7599bc64",
   "metadata": {},
   "outputs": [],
   "source": [
    "import pandas as pd\n",
    "import numpy as np"
   ]
  },
  {
   "cell_type": "code",
   "execution_count": 2,
   "id": "97a7fd2f-6f50-4352-a0b3-d2586bb8ea88",
   "metadata": {},
   "outputs": [],
   "source": [
    "movies = pd.read_csv(\"../data/movies.csv\")"
   ]
  },
  {
   "cell_type": "code",
   "execution_count": 3,
   "id": "a80b4da9-5a76-4197-a149-414c8d0032b4",
   "metadata": {},
   "outputs": [],
   "source": [
    "ratings = pd.read_csv(\"../data/ratings.csv\")"
   ]
  },
  {
   "cell_type": "code",
   "execution_count": 32,
   "id": "8833f928-3a1e-494a-aa7c-09e6ec7a36a9",
   "metadata": {},
   "outputs": [],
   "source": [
    "movie_ratings = ratings.merge(movies, on=\"movieId\")"
   ]
  },
  {
   "cell_type": "code",
   "execution_count": 33,
   "id": "7a7ca51b-4cea-4182-824c-6699eda8c4eb",
   "metadata": {},
   "outputs": [
    {
     "data": {
      "text/html": [
       "<div>\n",
       "<style scoped>\n",
       "    .dataframe tbody tr th:only-of-type {\n",
       "        vertical-align: middle;\n",
       "    }\n",
       "\n",
       "    .dataframe tbody tr th {\n",
       "        vertical-align: top;\n",
       "    }\n",
       "\n",
       "    .dataframe thead th {\n",
       "        text-align: right;\n",
       "    }\n",
       "</style>\n",
       "<table border=\"1\" class=\"dataframe\">\n",
       "  <thead>\n",
       "    <tr style=\"text-align: right;\">\n",
       "      <th></th>\n",
       "      <th>userId</th>\n",
       "      <th>movieId</th>\n",
       "      <th>rating</th>\n",
       "      <th>timestamp</th>\n",
       "      <th>title</th>\n",
       "      <th>genres</th>\n",
       "    </tr>\n",
       "  </thead>\n",
       "  <tbody>\n",
       "    <tr>\n",
       "      <th>0</th>\n",
       "      <td>1</td>\n",
       "      <td>296</td>\n",
       "      <td>5.0</td>\n",
       "      <td>1147880044</td>\n",
       "      <td>Pulp Fiction (1994)</td>\n",
       "      <td>Comedy|Crime|Drama|Thriller</td>\n",
       "    </tr>\n",
       "    <tr>\n",
       "      <th>1</th>\n",
       "      <td>1</td>\n",
       "      <td>306</td>\n",
       "      <td>3.5</td>\n",
       "      <td>1147868817</td>\n",
       "      <td>Three Colors: Red (Trois couleurs: Rouge) (1994)</td>\n",
       "      <td>Drama</td>\n",
       "    </tr>\n",
       "    <tr>\n",
       "      <th>2</th>\n",
       "      <td>1</td>\n",
       "      <td>307</td>\n",
       "      <td>5.0</td>\n",
       "      <td>1147868828</td>\n",
       "      <td>Three Colors: Blue (Trois couleurs: Bleu) (1993)</td>\n",
       "      <td>Drama</td>\n",
       "    </tr>\n",
       "    <tr>\n",
       "      <th>3</th>\n",
       "      <td>1</td>\n",
       "      <td>665</td>\n",
       "      <td>5.0</td>\n",
       "      <td>1147878820</td>\n",
       "      <td>Underground (1995)</td>\n",
       "      <td>Comedy|Drama|War</td>\n",
       "    </tr>\n",
       "    <tr>\n",
       "      <th>4</th>\n",
       "      <td>1</td>\n",
       "      <td>899</td>\n",
       "      <td>3.5</td>\n",
       "      <td>1147868510</td>\n",
       "      <td>Singin' in the Rain (1952)</td>\n",
       "      <td>Comedy|Musical|Romance</td>\n",
       "    </tr>\n",
       "    <tr>\n",
       "      <th>...</th>\n",
       "      <td>...</td>\n",
       "      <td>...</td>\n",
       "      <td>...</td>\n",
       "      <td>...</td>\n",
       "      <td>...</td>\n",
       "      <td>...</td>\n",
       "    </tr>\n",
       "    <tr>\n",
       "      <th>25000090</th>\n",
       "      <td>162541</td>\n",
       "      <td>50872</td>\n",
       "      <td>4.5</td>\n",
       "      <td>1240953372</td>\n",
       "      <td>Ratatouille (2007)</td>\n",
       "      <td>Animation|Children|Drama</td>\n",
       "    </tr>\n",
       "    <tr>\n",
       "      <th>25000091</th>\n",
       "      <td>162541</td>\n",
       "      <td>55768</td>\n",
       "      <td>2.5</td>\n",
       "      <td>1240951998</td>\n",
       "      <td>Bee Movie (2007)</td>\n",
       "      <td>Animation|Comedy</td>\n",
       "    </tr>\n",
       "    <tr>\n",
       "      <th>25000092</th>\n",
       "      <td>162541</td>\n",
       "      <td>56176</td>\n",
       "      <td>2.0</td>\n",
       "      <td>1240950697</td>\n",
       "      <td>Alvin and the Chipmunks (2007)</td>\n",
       "      <td>Children|Comedy</td>\n",
       "    </tr>\n",
       "    <tr>\n",
       "      <th>25000093</th>\n",
       "      <td>162541</td>\n",
       "      <td>58559</td>\n",
       "      <td>4.0</td>\n",
       "      <td>1240953434</td>\n",
       "      <td>Dark Knight, The (2008)</td>\n",
       "      <td>Action|Crime|Drama|IMAX</td>\n",
       "    </tr>\n",
       "    <tr>\n",
       "      <th>25000094</th>\n",
       "      <td>162541</td>\n",
       "      <td>63876</td>\n",
       "      <td>5.0</td>\n",
       "      <td>1240952515</td>\n",
       "      <td>Milk (2008)</td>\n",
       "      <td>Drama</td>\n",
       "    </tr>\n",
       "  </tbody>\n",
       "</table>\n",
       "<p>25000095 rows × 6 columns</p>\n",
       "</div>"
      ],
      "text/plain": [
       "          userId  movieId  rating   timestamp  \\\n",
       "0              1      296     5.0  1147880044   \n",
       "1              1      306     3.5  1147868817   \n",
       "2              1      307     5.0  1147868828   \n",
       "3              1      665     5.0  1147878820   \n",
       "4              1      899     3.5  1147868510   \n",
       "...          ...      ...     ...         ...   \n",
       "25000090  162541    50872     4.5  1240953372   \n",
       "25000091  162541    55768     2.5  1240951998   \n",
       "25000092  162541    56176     2.0  1240950697   \n",
       "25000093  162541    58559     4.0  1240953434   \n",
       "25000094  162541    63876     5.0  1240952515   \n",
       "\n",
       "                                                     title  \\\n",
       "0                                      Pulp Fiction (1994)   \n",
       "1         Three Colors: Red (Trois couleurs: Rouge) (1994)   \n",
       "2         Three Colors: Blue (Trois couleurs: Bleu) (1993)   \n",
       "3                                       Underground (1995)   \n",
       "4                               Singin' in the Rain (1952)   \n",
       "...                                                    ...   \n",
       "25000090                                Ratatouille (2007)   \n",
       "25000091                                  Bee Movie (2007)   \n",
       "25000092                    Alvin and the Chipmunks (2007)   \n",
       "25000093                           Dark Knight, The (2008)   \n",
       "25000094                                       Milk (2008)   \n",
       "\n",
       "                               genres  \n",
       "0         Comedy|Crime|Drama|Thriller  \n",
       "1                               Drama  \n",
       "2                               Drama  \n",
       "3                    Comedy|Drama|War  \n",
       "4              Comedy|Musical|Romance  \n",
       "...                               ...  \n",
       "25000090     Animation|Children|Drama  \n",
       "25000091             Animation|Comedy  \n",
       "25000092              Children|Comedy  \n",
       "25000093      Action|Crime|Drama|IMAX  \n",
       "25000094                        Drama  \n",
       "\n",
       "[25000095 rows x 6 columns]"
      ]
     },
     "execution_count": 33,
     "metadata": {},
     "output_type": "execute_result"
    }
   ],
   "source": [
    "movie_ratings"
   ]
  },
  {
   "cell_type": "code",
   "execution_count": 12,
   "id": "850b0c86-5fae-4265-ab96-2ba8f9f57f6d",
   "metadata": {},
   "outputs": [],
   "source": [
    "n_reviews = movie_ratings[\"timestamp\"].value_counts().reset_index()"
   ]
  },
  {
   "cell_type": "code",
   "execution_count": 31,
   "id": "3885da81-1fa6-46a6-85b2-97c10dbc5477",
   "metadata": {},
   "outputs": [
    {
     "name": "stdout",
     "output_type": "stream",
     "text": [
      "0.9 of data has timestamp less than 1515033908\n"
     ]
    }
   ],
   "source": [
    "timestamp_l = 0\n",
    "timestamp_r = n_reviews[\"timestamp\"].max()\n",
    "total_sum = n_reviews[\"count\"].sum()\n",
    "fraction = 0.9\n",
    "while timestamp_l + 1 < timestamp_r:\n",
    "    timestamp_mid = (timestamp_l + timestamp_r) // 2\n",
    "    current_sum = n_reviews[n_reviews[\"timestamp\"] < timestamp_mid][\"count\"].sum()\n",
    "    if current_sum < (fraction * total_sum):\n",
    "        timestamp_l = timestamp_mid\n",
    "    else:\n",
    "        timestamp_r = timestamp_mid\n",
    "print(f\"{fraction} of data has timestamp less than {timestamp_l}\")"
   ]
  },
  {
   "cell_type": "markdown",
   "id": "3abd3689-ce0f-4c4a-9ec7-a64a3df63e04",
   "metadata": {},
   "source": [
    "## Train Time Margin:\n",
    "timestamp < 1421944985\n",
    "## Test Time Margin:\n",
    "1421944985 <= timestamp < 1515033908\n",
    "## Validation Time Margin:\n",
    "1515033908 <= timestamp"
   ]
  },
  {
   "cell_type": "code",
   "execution_count": null,
   "id": "0e72d41f-95f0-492a-b505-611ba0919269",
   "metadata": {},
   "outputs": [],
   "source": [
    " "
   ]
  }
 ],
 "metadata": {
  "kernelspec": {
   "display_name": "Python 3 (ipykernel)",
   "language": "python",
   "name": "python3"
  },
  "language_info": {
   "codemirror_mode": {
    "name": "ipython",
    "version": 3
   },
   "file_extension": ".py",
   "mimetype": "text/x-python",
   "name": "python",
   "nbconvert_exporter": "python",
   "pygments_lexer": "ipython3",
   "version": "3.11.7"
  }
 },
 "nbformat": 4,
 "nbformat_minor": 5
}
