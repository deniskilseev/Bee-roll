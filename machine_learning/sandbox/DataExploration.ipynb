{
 "cells": [
  {
   "cell_type": "code",
   "execution_count": 8,
   "id": "3f3f97cb-aab0-40a7-84f2-223b7599bc64",
   "metadata": {},
   "outputs": [],
   "source": [
    "import pandas as pd\n",
    "import numpy as np\n",
    "from tqdm import tqdm"
   ]
  },
  {
   "cell_type": "code",
   "execution_count": 2,
   "id": "4788a7ab-dc00-4c63-9659-b7f54c7314b5",
   "metadata": {},
   "outputs": [],
   "source": [
    "from datetime import datetime"
   ]
  },
  {
   "cell_type": "code",
   "execution_count": 3,
   "id": "97a7fd2f-6f50-4352-a0b3-d2586bb8ea88",
   "metadata": {},
   "outputs": [],
   "source": [
    "movies = pd.read_csv(\"../data/movies.csv\")"
   ]
  },
  {
   "cell_type": "code",
   "execution_count": 4,
   "id": "a80b4da9-5a76-4197-a149-414c8d0032b4",
   "metadata": {},
   "outputs": [],
   "source": [
    "ratings = pd.read_csv(\"../data/ratings.csv\")"
   ]
  },
  {
   "cell_type": "code",
   "execution_count": 22,
   "id": "8833f928-3a1e-494a-aa7c-09e6ec7a36a9",
   "metadata": {},
   "outputs": [],
   "source": [
    "movie_ratings = ratings.merge(movies, on=\"movieId\")"
   ]
  },
  {
   "cell_type": "code",
   "execution_count": 25,
   "id": "80f55b85-364b-4f1a-ab75-ac882845fcde",
   "metadata": {},
   "outputs": [
    {
     "data": {
      "text/plain": [
       "0          2006-05-17 11:34:04\n",
       "1          2006-05-17 08:26:57\n",
       "2          2006-05-17 08:27:08\n",
       "3          2006-05-17 11:13:40\n",
       "4          2006-05-17 08:21:50\n",
       "                   ...        \n",
       "25000090   2009-04-28 17:16:12\n",
       "25000091   2009-04-28 16:53:18\n",
       "25000092   2009-04-28 16:31:37\n",
       "25000093   2009-04-28 17:17:14\n",
       "25000094   2009-04-28 17:01:55\n",
       "Name: timestamp, Length: 25000095, dtype: datetime64[ns]"
      ]
     },
     "execution_count": 25,
     "metadata": {},
     "output_type": "execute_result"
    }
   ],
   "source": [
    "movie_ratings.head()"
   ]
  },
  {
   "cell_type": "code",
   "execution_count": 30,
   "id": "c3df59d9-56ea-4d65-a6c1-94b7e283be8e",
   "metadata": {},
   "outputs": [
    {
     "ename": "SyntaxError",
     "evalue": "unterminated string literal (detected at line 2) (1513756788.py, line 2)",
     "output_type": "error",
     "traceback": [
      "\u001b[0;36m  Cell \u001b[0;32mIn[30], line 2\u001b[0;36m\u001b[0m\n\u001b[0;31m    sorted_ratings[\"timestamp\"] = sorted_ratings[\"timestamp\"].apply(datetime.fromtimestamp).rename(\")\u001b[0m\n\u001b[0m                                                                                                   ^\u001b[0m\n\u001b[0;31mSyntaxError\u001b[0m\u001b[0;31m:\u001b[0m unterminated string literal (detected at line 2)\n"
     ]
    }
   ],
   "source": [
    "sorted_ratings = movie_ratings.sort_values(by=\"timestamp\")\n",
    "sorted_ratings[\"timestamp\"] = sorted_ratings[\"timestamp\"].apply(datetime.fromtimestamp).rename({\"\"})"
   ]
  },
  {
   "cell_type": "code",
   "execution_count": 29,
   "id": "1dc637f0-8c1d-420f-89c2-8a3e8867c91a",
   "metadata": {},
   "outputs": [
    {
     "data": {
      "text/html": [
       "<div>\n",
       "<style scoped>\n",
       "    .dataframe tbody tr th:only-of-type {\n",
       "        vertical-align: middle;\n",
       "    }\n",
       "\n",
       "    .dataframe tbody tr th {\n",
       "        vertical-align: top;\n",
       "    }\n",
       "\n",
       "    .dataframe thead th {\n",
       "        text-align: right;\n",
       "    }\n",
       "</style>\n",
       "<table border=\"1\" class=\"dataframe\">\n",
       "  <thead>\n",
       "    <tr style=\"text-align: right;\">\n",
       "      <th></th>\n",
       "      <th>userId</th>\n",
       "      <th>movieId</th>\n",
       "      <th>rating</th>\n",
       "      <th>timestamp</th>\n",
       "      <th>title</th>\n",
       "      <th>genres</th>\n",
       "    </tr>\n",
       "  </thead>\n",
       "  <tbody>\n",
       "    <tr>\n",
       "      <th>326761</th>\n",
       "      <td>2262</td>\n",
       "      <td>21</td>\n",
       "      <td>3.0</td>\n",
       "      <td>1995-01-09 06:46:49</td>\n",
       "      <td>Get Shorty (1995)</td>\n",
       "      <td>Comedy|Crime|Thriller</td>\n",
       "    </tr>\n",
       "    <tr>\n",
       "      <th>326810</th>\n",
       "      <td>2262</td>\n",
       "      <td>1079</td>\n",
       "      <td>3.0</td>\n",
       "      <td>1995-01-09 06:46:49</td>\n",
       "      <td>Fish Called Wanda, A (1988)</td>\n",
       "      <td>Comedy|Crime</td>\n",
       "    </tr>\n",
       "    <tr>\n",
       "      <th>326767</th>\n",
       "      <td>2262</td>\n",
       "      <td>47</td>\n",
       "      <td>5.0</td>\n",
       "      <td>1995-01-09 06:46:49</td>\n",
       "      <td>Seven (a.k.a. Se7en) (1995)</td>\n",
       "      <td>Mystery|Thriller</td>\n",
       "    </tr>\n",
       "    <tr>\n",
       "      <th>15845015</th>\n",
       "      <td>102689</td>\n",
       "      <td>1</td>\n",
       "      <td>4.0</td>\n",
       "      <td>1996-01-28 19:00:00</td>\n",
       "      <td>Toy Story (1995)</td>\n",
       "      <td>Adventure|Animation|Children|Comedy|Fantasy</td>\n",
       "    </tr>\n",
       "    <tr>\n",
       "      <th>15845023</th>\n",
       "      <td>102689</td>\n",
       "      <td>39</td>\n",
       "      <td>5.0</td>\n",
       "      <td>1996-01-28 19:00:00</td>\n",
       "      <td>Clueless (1995)</td>\n",
       "      <td>Comedy|Romance</td>\n",
       "    </tr>\n",
       "    <tr>\n",
       "      <th>...</th>\n",
       "      <td>...</td>\n",
       "      <td>...</td>\n",
       "      <td>...</td>\n",
       "      <td>...</td>\n",
       "      <td>...</td>\n",
       "      <td>...</td>\n",
       "    </tr>\n",
       "    <tr>\n",
       "      <th>13207880</th>\n",
       "      <td>85523</td>\n",
       "      <td>168252</td>\n",
       "      <td>4.0</td>\n",
       "      <td>2019-11-21 04:11:19</td>\n",
       "      <td>Logan (2017)</td>\n",
       "      <td>Action|Sci-Fi</td>\n",
       "    </tr>\n",
       "    <tr>\n",
       "      <th>1284508</th>\n",
       "      <td>8642</td>\n",
       "      <td>202101</td>\n",
       "      <td>2.0</td>\n",
       "      <td>2019-11-21 04:11:52</td>\n",
       "      <td>Stuber (2019)</td>\n",
       "      <td>Action|Comedy</td>\n",
       "    </tr>\n",
       "    <tr>\n",
       "      <th>13207893</th>\n",
       "      <td>85523</td>\n",
       "      <td>204704</td>\n",
       "      <td>4.0</td>\n",
       "      <td>2019-11-21 04:12:13</td>\n",
       "      <td>Ready or Not (2019)</td>\n",
       "      <td>Comedy|Horror|Thriller</td>\n",
       "    </tr>\n",
       "    <tr>\n",
       "      <th>1284464</th>\n",
       "      <td>8642</td>\n",
       "      <td>122914</td>\n",
       "      <td>4.0</td>\n",
       "      <td>2019-11-21 04:12:29</td>\n",
       "      <td>Avengers: Infinity War - Part II (2019)</td>\n",
       "      <td>Action|Adventure|Sci-Fi</td>\n",
       "    </tr>\n",
       "    <tr>\n",
       "      <th>13207877</th>\n",
       "      <td>85523</td>\n",
       "      <td>149406</td>\n",
       "      <td>4.5</td>\n",
       "      <td>2019-11-21 04:15:03</td>\n",
       "      <td>Kung Fu Panda 3 (2016)</td>\n",
       "      <td>Action|Adventure|Animation</td>\n",
       "    </tr>\n",
       "  </tbody>\n",
       "</table>\n",
       "<p>25000095 rows × 6 columns</p>\n",
       "</div>"
      ],
      "text/plain": [
       "          userId  movieId  rating           timestamp  \\\n",
       "326761      2262       21     3.0 1995-01-09 06:46:49   \n",
       "326810      2262     1079     3.0 1995-01-09 06:46:49   \n",
       "326767      2262       47     5.0 1995-01-09 06:46:49   \n",
       "15845015  102689        1     4.0 1996-01-28 19:00:00   \n",
       "15845023  102689       39     5.0 1996-01-28 19:00:00   \n",
       "...          ...      ...     ...                 ...   \n",
       "13207880   85523   168252     4.0 2019-11-21 04:11:19   \n",
       "1284508     8642   202101     2.0 2019-11-21 04:11:52   \n",
       "13207893   85523   204704     4.0 2019-11-21 04:12:13   \n",
       "1284464     8642   122914     4.0 2019-11-21 04:12:29   \n",
       "13207877   85523   149406     4.5 2019-11-21 04:15:03   \n",
       "\n",
       "                                            title  \\\n",
       "326761                          Get Shorty (1995)   \n",
       "326810                Fish Called Wanda, A (1988)   \n",
       "326767                Seven (a.k.a. Se7en) (1995)   \n",
       "15845015                         Toy Story (1995)   \n",
       "15845023                          Clueless (1995)   \n",
       "...                                           ...   \n",
       "13207880                             Logan (2017)   \n",
       "1284508                             Stuber (2019)   \n",
       "13207893                      Ready or Not (2019)   \n",
       "1284464   Avengers: Infinity War - Part II (2019)   \n",
       "13207877                   Kung Fu Panda 3 (2016)   \n",
       "\n",
       "                                               genres  \n",
       "326761                          Comedy|Crime|Thriller  \n",
       "326810                                   Comedy|Crime  \n",
       "326767                               Mystery|Thriller  \n",
       "15845015  Adventure|Animation|Children|Comedy|Fantasy  \n",
       "15845023                               Comedy|Romance  \n",
       "...                                               ...  \n",
       "13207880                                Action|Sci-Fi  \n",
       "1284508                                 Action|Comedy  \n",
       "13207893                       Comedy|Horror|Thriller  \n",
       "1284464                       Action|Adventure|Sci-Fi  \n",
       "13207877                   Action|Adventure|Animation  \n",
       "\n",
       "[25000095 rows x 6 columns]"
      ]
     },
     "execution_count": 29,
     "metadata": {},
     "output_type": "execute_result"
    }
   ],
   "source": [
    "sorted_ratings"
   ]
  },
  {
   "cell_type": "markdown",
   "id": "3abd3689-ce0f-4c4a-9ec7-a64a3df63e04",
   "metadata": {},
   "source": [
    "# If Train and Validation\n",
    "## Train Time Margin:\n",
    "timestamp < 1421944985\n",
    "## Test Time Margin:\n",
    "1421944985 <= timestamp < 1515033908\n",
    "## Validation Time Margin:\n",
    "1515033908 <= timestamp\n",
    "# If just Validation\n",
    "## Train Time Margin:\n",
    "timestamp < 1466837397\n",
    "## Validation Time Margin:\n",
    "1466837397 <= timestamp"
   ]
  },
  {
   "cell_type": "code",
   "execution_count": 12,
   "id": "945c95e3-183e-4b67-bf0b-159f567b43c6",
   "metadata": {},
   "outputs": [],
   "source": [
    "fraction = 0.8\n",
    "train_rating = sorted_ratings[:int(fraction * len(sorted_ratings))]\n",
    "val_rating =  sorted_ratings[int(fraction * len(sorted_ratings)):]"
   ]
  },
  {
   "cell_type": "code",
   "execution_count": 34,
   "id": "aed3c49d-8fe7-44b4-a670-b567579e4ba7",
   "metadata": {},
   "outputs": [],
   "source": [
    "user_rating = sorted_ratings[sorted_ratings[\"userId\"] == 18492]"
   ]
  },
  {
   "cell_type": "code",
   "execution_count": 35,
   "id": "f485fc74-04e8-43f2-957e-a3b3e357cf31",
   "metadata": {},
   "outputs": [
    {
     "data": {
      "text/plain": [
       "2786591   1996-07-12 17:11:47\n",
       "2786552   1996-07-12 17:11:47\n",
       "2786625   1996-07-12 17:11:47\n",
       "2786617   1996-07-12 17:12:05\n",
       "2786626   1996-07-12 17:12:05\n",
       "2786607   1996-07-12 17:12:05\n",
       "2786606   1996-07-12 17:12:23\n",
       "2786585   1996-07-12 17:12:23\n",
       "2786592   1996-07-12 17:12:38\n",
       "2786558   1996-07-12 17:12:55\n",
       "2786594   1996-07-12 17:14:41\n",
       "2786598   1996-07-12 17:14:41\n",
       "2786584   1996-07-12 17:15:01\n",
       "2786565   1996-07-12 17:15:58\n",
       "2786604   1996-07-12 17:16:29\n",
       "2786593   1996-07-12 17:17:26\n",
       "2786614   1996-07-12 17:18:26\n",
       "2786611   1996-07-12 17:19:05\n",
       "2786613   1996-07-12 17:19:05\n",
       "2786615   1996-07-12 17:22:43\n",
       "2786577   1996-07-13 00:03:36\n",
       "2786561   1996-07-13 00:16:23\n",
       "2786571   1996-07-14 12:41:01\n",
       "2786630   1996-11-16 11:47:01\n",
       "2786549   1996-11-16 11:48:38\n",
       "2786628   1996-11-16 11:48:58\n",
       "2786631   1996-11-16 13:32:04\n",
       "2786627   1996-11-16 13:32:04\n",
       "2786632   1996-11-29 09:13:40\n",
       "2786629   1996-11-29 09:28:17\n",
       "Name: timestamp, dtype: datetime64[ns]"
      ]
     },
     "execution_count": 35,
     "metadata": {},
     "output_type": "execute_result"
    }
   ],
   "source": [
    "user_rating[\"timestamp\"].apply(datetime.fromtimestamp).tail(30)"
   ]
  },
  {
   "cell_type": "code",
   "execution_count": 17,
   "id": "69bb7d6e-92d7-4c67-8bf2-da2ce17cc477",
   "metadata": {},
   "outputs": [
    {
     "data": {
      "text/plain": [
       "6401"
      ]
     },
     "execution_count": 17,
     "metadata": {},
     "output_type": "execute_result"
    }
   ],
   "source": [
    "len(val_user_ids & train_user_ids)"
   ]
  },
  {
   "cell_type": "code",
   "execution_count": 23,
   "id": "d8ddabc7-8830-40f3-b4ed-c7f3056d4667",
   "metadata": {},
   "outputs": [],
   "source": [
    "beginning = datetime.fromtimestamp(train_rating[\"timestamp\"].min())\n",
    "end = datetime.fromtimestamp(train_rating[\"timestamp\"].max())"
   ]
  },
  {
   "cell_type": "code",
   "execution_count": 24,
   "id": "007a2143-3530-4a4c-834f-c72ad0cbe5b0",
   "metadata": {},
   "outputs": [
    {
     "name": "stdout",
     "output_type": "stream",
     "text": [
      "from 1995-01-09 06:46:49 to 2016-06-25 02:49:57\n"
     ]
    }
   ],
   "source": [
    "print(f\"from {beginning} to {end}\")"
   ]
  }
 ],
 "metadata": {
  "kernelspec": {
   "display_name": "Python 3 (ipykernel)",
   "language": "python",
   "name": "python3"
  },
  "language_info": {
   "codemirror_mode": {
    "name": "ipython",
    "version": 3
   },
   "file_extension": ".py",
   "mimetype": "text/x-python",
   "name": "python",
   "nbconvert_exporter": "python",
   "pygments_lexer": "ipython3",
   "version": "3.11.7"
  }
 },
 "nbformat": 4,
 "nbformat_minor": 5
}
