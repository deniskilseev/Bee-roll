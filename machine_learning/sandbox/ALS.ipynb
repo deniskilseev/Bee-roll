{
 "cells": [
  {
   "cell_type": "code",
   "execution_count": 1,
   "id": "c6ee5ad7-e5fc-4d0c-8799-b83918fbf1bc",
   "metadata": {},
   "outputs": [
    {
     "name": "stderr",
     "output_type": "stream",
     "text": [
      "/home/VoidWalker/Code/cs307/Bee-roll/machine_learning/env/lib/python3.11/site-packages/tqdm/auto.py:21: TqdmWarning: IProgress not found. Please update jupyter and ipywidgets. See https://ipywidgets.readthedocs.io/en/stable/user_install.html\n",
      "  from .autonotebook import tqdm as notebook_tqdm\n"
     ]
    }
   ],
   "source": [
    "from scipy import sparse as sp\n",
    "import json\n",
    "import pickle\n",
    "import sys\n",
    "import numpy as np\n",
    "import implicit\n",
    "import threadpoolctl\n",
    "from tqdm import tqdm"
   ]
  },
  {
   "cell_type": "code",
   "execution_count": 2,
   "id": "f66bfadf-f684-4c48-a45e-2d628f7fcfdb",
   "metadata": {},
   "outputs": [
    {
     "data": {
      "text/plain": [
       "<threadpoolctl.threadpool_limits at 0x7d9aecdb54d0>"
      ]
     },
     "execution_count": 2,
     "metadata": {},
     "output_type": "execute_result"
    }
   ],
   "source": [
    "# Limiting the threads\n",
    "threadpoolctl.threadpool_limits(1, \"blas\")"
   ]
  },
  {
   "cell_type": "code",
   "execution_count": 3,
   "id": "28f4762b-07ba-4ff9-bbf4-9f79e0a571aa",
   "metadata": {},
   "outputs": [],
   "source": [
    "sys.path.append(\"../src\")\n",
    "from config import NUM_PARTS, PATH_TO_ALS_MODEL\n",
    "from models import ALS\n",
    "from utils import MovieEncoder, make_coo_row, get_part_path"
   ]
  },
  {
   "cell_type": "code",
   "execution_count": 4,
   "id": "71e9224b-3e29-459d-aad0-85a13f55c66d",
   "metadata": {},
   "outputs": [],
   "source": [
    "file = open(\"../models/movie.encoder\", \"rb\")\n",
    "encoder = pickle.load(file)\n",
    "file.close()"
   ]
  },
  {
   "cell_type": "code",
   "execution_count": 5,
   "id": "64c9b825-5582-4970-900e-f2fdb002d789",
   "metadata": {},
   "outputs": [],
   "source": [
    "model = implicit.als.AlternatingLeastSquares(factors=64)"
   ]
  },
  {
   "cell_type": "code",
   "execution_count": 6,
   "id": "8aef16f0-3f94-435c-bb83-13fc119ae438",
   "metadata": {},
   "outputs": [
    {
     "name": "stderr",
     "output_type": "stream",
     "text": [
      "33300it [00:04, 7392.39it/s]\n",
      "33045it [00:03, 8462.65it/s]\n",
      "33011it [00:03, 8522.31it/s]\n",
      "33117it [00:03, 8610.00it/s]\n",
      "33299it [00:03, 8894.41it/s]\n",
      "33052it [00:03, 8445.24it/s]\n",
      "32895it [00:03, 8425.62it/s]\n",
      "33145it [00:03, 8765.42it/s]\n",
      "32881it [00:04, 8175.02it/s]\n",
      "33230it [00:03, 8749.57it/s]\n"
     ]
    }
   ],
   "source": [
    "rows = []\n",
    "users = []\n",
    "empty_rows = []\n",
    "for index in range(NUM_PARTS):\n",
    "    for data in tqdm((json.loads(part) for part in open(get_part_path(index)))):\n",
    "        users.append(data[\"user_id\"])\n",
    "        empty_rows.append(make_coo_row([], encoder))\n",
    "        rows.append(make_coo_row(data[\"review_history\"], encoder))\n",
    "train_mat = sp.vstack(rows)\n",
    "empty_mat = sp.vstack(empty_rows)\n",
    "users = np.array(users)"
   ]
  },
  {
   "cell_type": "code",
   "execution_count": 7,
   "id": "8cd64fb4-8789-4baa-af8a-7ac4385d4ac5",
   "metadata": {},
   "outputs": [
    {
     "name": "stderr",
     "output_type": "stream",
     "text": [
      "/home/VoidWalker/Code/cs307/Bee-roll/machine_learning/env/lib/python3.11/site-packages/implicit/utils.py:164: ParameterWarning: Method expects CSR input, and was passed coo_matrix instead. Converting to CSR took 0.971874475479126 seconds\n",
      "  warnings.warn(\n",
      "100%|███████████████████████████████████████████████████████████████████████| 15/15 [00:41<00:00,  2.80s/it]\n"
     ]
    }
   ],
   "source": [
    "model.fit(train_mat)"
   ]
  },
  {
   "cell_type": "code",
   "execution_count": 8,
   "id": "0daae89d-87b5-4151-bbea-7f0414db6947",
   "metadata": {},
   "outputs": [
    {
     "name": "stderr",
     "output_type": "stream",
     "text": [
      "/home/VoidWalker/Code/cs307/Bee-roll/machine_learning/env/lib/python3.11/site-packages/implicit/utils.py:164: ParameterWarning: Method expects CSR input, and was passed coo_matrix instead. Converting to CSR took 0.0002741813659667969 seconds\n",
      "  warnings.warn(\n"
     ]
    }
   ],
   "source": [
    "model.partial_fit_users(users, empty_mat) # Removing info about the users"
   ]
  },
  {
   "cell_type": "code",
   "execution_count": 9,
   "id": "4fda9412-9a13-4b66-9ba2-bf7a348b8ad3",
   "metadata": {},
   "outputs": [],
   "source": [
    "trained_model = ALS(model)"
   ]
  },
  {
   "cell_type": "code",
   "execution_count": 10,
   "id": "780aa6b6-a3f1-4c8b-90f4-68cb23bdefd3",
   "metadata": {},
   "outputs": [],
   "source": [
    "file = open(PATH_TO_ALS_MODEL, 'wb')\n",
    "pickle.dump(trained_model, file)\n",
    "file.close()"
   ]
  },
  {
   "cell_type": "code",
   "execution_count": 5,
   "id": "409fa427-e975-41d2-809e-c6ba9c5cb8a8",
   "metadata": {},
   "outputs": [],
   "source": [
    "file = open(PATH_TO_ALS_MODEL, 'rb')\n",
    "trained_model = pickle.load(file)\n",
    "file.close()"
   ]
  }
 ],
 "metadata": {
  "kernelspec": {
   "display_name": "Python 3 (ipykernel)",
   "language": "python",
   "name": "python3"
  },
  "language_info": {
   "codemirror_mode": {
    "name": "ipython",
    "version": 3
   },
   "file_extension": ".py",
   "mimetype": "text/x-python",
   "name": "python",
   "nbconvert_exporter": "python",
   "pygments_lexer": "ipython3",
   "version": "3.11.8"
  }
 },
 "nbformat": 4,
 "nbformat_minor": 5
}
