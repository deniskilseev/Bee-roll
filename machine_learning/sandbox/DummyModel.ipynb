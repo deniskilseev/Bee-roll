{
 "cells": [
  {
   "cell_type": "code",
   "execution_count": 1,
   "id": "e89f37fb-e647-4690-a6a6-ecdbc82e1c62",
   "metadata": {},
   "outputs": [],
   "source": [
    "import pandas as pd\n",
    "import numpy as np\n",
    "import pickle\n",
    "import sys"
   ]
  },
  {
   "cell_type": "code",
   "execution_count": 2,
   "id": "30da515e-2746-4a4c-9082-64182e6cf54c",
   "metadata": {},
   "outputs": [],
   "source": [
    "sys.path.append(\"../src\")\n",
    "from dummy_model import DummyModel"
   ]
  },
  {
   "cell_type": "code",
   "execution_count": 3,
   "id": "9d5fbeb5-bc35-4fa5-b607-9f3ecd2407f5",
   "metadata": {},
   "outputs": [],
   "source": [
    "reviews = pd.read_csv(\"../data/ratings.csv\")"
   ]
  },
  {
   "cell_type": "code",
   "execution_count": 4,
   "id": "7c3d41b2-9fbd-4749-933e-9f6f0e3debb9",
   "metadata": {},
   "outputs": [],
   "source": [
    "movie_stats = reviews.groupby(\"movieId\")[\"rating\"].agg([\"count\", \"mean\"])"
   ]
  },
  {
   "cell_type": "markdown",
   "id": "fbc15440-615c-4706-980c-74cd386803c9",
   "metadata": {},
   "source": [
    "Using _baysian average rating_ instead of the rating because it is more informative"
   ]
  },
  {
   "cell_type": "code",
   "execution_count": 5,
   "id": "07ba6d11-8dd9-4627-9280-c14551ddf7e4",
   "metadata": {},
   "outputs": [],
   "source": [
    "C = movie_stats[\"count\"].mean()\n",
    "m = movie_stats[\"mean\"].mean()\n",
    "\n",
    "def BayesianAverage(ratings):\n",
    "    bayesian_average = (C * m + ratings.sum()) / (C + ratings.count())\n",
    "    return round(bayesian_average, 5)"
   ]
  },
  {
   "cell_type": "code",
   "execution_count": 6,
   "id": "a715d6e3-6900-422a-862d-5288e52a07c9",
   "metadata": {},
   "outputs": [],
   "source": [
    "bayesian_average_rating = reviews.groupby(\"movieId\")[\"rating\"].agg([BayesianAverage]).reset_index()"
   ]
  },
  {
   "cell_type": "code",
   "execution_count": 7,
   "id": "ae763e00-4e29-4e29-9f22-2a58ebe1e5a1",
   "metadata": {},
   "outputs": [],
   "source": [
    "bayesian_average_rating = bayesian_average_rating.rename(columns={\"movieId\":\"movie_id\", \"BayesianAverage\":\"rating\"})"
   ]
  },
  {
   "cell_type": "code",
   "execution_count": 8,
   "id": "03674f74-7449-428f-b0de-d008e3b9b977",
   "metadata": {},
   "outputs": [],
   "source": [
    "bayesian_average_rating = bayesian_average_rating.sort_values(by=\"rating\", ascending=False)"
   ]
  },
  {
   "cell_type": "code",
   "execution_count": 9,
   "id": "27d18f7a-62fa-4061-9e32-b0704e295d52",
   "metadata": {},
   "outputs": [],
   "source": [
    "model = DummyModel(bayesian_average_rating)"
   ]
  },
  {
   "cell_type": "code",
   "execution_count": 10,
   "id": "67d8d4e8-70ce-4acd-b0f4-8743a5056aca",
   "metadata": {},
   "outputs": [],
   "source": [
    "file = open('../models/dummy.model', 'wb')\n",
    "pickle.dump(model, file)\n",
    "file.close()"
   ]
  },
  {
   "cell_type": "code",
   "execution_count": 11,
   "id": "847722ba-f3be-403a-a0e0-f885cb841f96",
   "metadata": {},
   "outputs": [],
   "source": [
    "file = open('../models/dummy.model', 'rb')\n",
    "model = pickle.load(file)\n",
    "file.close()"
   ]
  }
 ],
 "metadata": {
  "kernelspec": {
   "display_name": "Python 3 (ipykernel)",
   "language": "python",
   "name": "python3"
  },
  "language_info": {
   "codemirror_mode": {
    "name": "ipython",
    "version": 3
   },
   "file_extension": ".py",
   "mimetype": "text/x-python",
   "name": "python",
   "nbconvert_exporter": "python",
   "pygments_lexer": "ipython3",
   "version": "3.11.8"
  }
 },
 "nbformat": 4,
 "nbformat_minor": 5
}
