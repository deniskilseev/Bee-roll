{
 "cells": [
  {
   "cell_type": "code",
   "execution_count": 1,
   "id": "40580966-15f2-4e48-82c8-4c203ed444f6",
   "metadata": {},
   "outputs": [],
   "source": [
    "import pandas as pd\n",
    "import numpy as np\n",
    "import pickle\n",
    "import sys"
   ]
  },
  {
   "cell_type": "code",
   "execution_count": 5,
   "id": "1d68b4e3-1081-4078-ab9e-56bc09767e81",
   "metadata": {},
   "outputs": [],
   "source": [
    "sys.path.append(\"../src\")\n",
    "from utils import MovieEncoder\n",
    "from config import PATH_TO_MOVIE_ENCODER"
   ]
  },
  {
   "cell_type": "code",
   "execution_count": 4,
   "id": "4093591f-e3be-4440-b1be-73d940045bdf",
   "metadata": {},
   "outputs": [],
   "source": [
    "encoder = MovieEncoder(\"../data/movies.csv\")"
   ]
  },
  {
   "cell_type": "code",
   "execution_count": 6,
   "id": "8cf77d21-ccd1-4b97-a45e-157f882c7e8a",
   "metadata": {},
   "outputs": [],
   "source": [
    "file = open(PATH_TO_MOVIE_ENCODER, 'wb')\n",
    "pickle.dump(encoder, file)\n",
    "file.close()"
   ]
  },
  {
   "cell_type": "code",
   "execution_count": 7,
   "id": "d2989ddc-72cb-41b3-8271-228182902f9f",
   "metadata": {},
   "outputs": [],
   "source": [
    "file = open(PATH_TO_MOVIE_ENCODER, 'rb')\n",
    "encoder = pickle.load(file)\n",
    "file.close()"
   ]
  }
 ],
 "metadata": {
  "kernelspec": {
   "display_name": "Python 3 (ipykernel)",
   "language": "python",
   "name": "python3"
  },
  "language_info": {
   "codemirror_mode": {
    "name": "ipython",
    "version": 3
   },
   "file_extension": ".py",
   "mimetype": "text/x-python",
   "name": "python",
   "nbconvert_exporter": "python",
   "pygments_lexer": "ipython3",
   "version": "3.11.8"
  }
 },
 "nbformat": 4,
 "nbformat_minor": 5
}
