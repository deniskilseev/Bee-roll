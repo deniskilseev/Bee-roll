{
 "cells": [
  {
   "cell_type": "code",
   "execution_count": 1,
   "id": "3f3f97cb-aab0-40a7-84f2-223b7599bc64",
   "metadata": {},
   "outputs": [],
   "source": [
    "import pandas as pd\n",
    "import numpy as np"
   ]
  },
  {
   "cell_type": "code",
   "execution_count": 2,
   "id": "97a7fd2f-6f50-4352-a0b3-d2586bb8ea88",
   "metadata": {},
   "outputs": [],
   "source": [
    "movies = pd.read_csv(\"../data/movies.csv\")"
   ]
  },
  {
   "cell_type": "code",
   "execution_count": 3,
   "id": "a80b4da9-5a76-4197-a149-414c8d0032b4",
   "metadata": {},
   "outputs": [],
   "source": [
    "ratings = pd.read_csv(\"../data/ratings.csv\")"
   ]
  },
  {
   "cell_type": "code",
   "execution_count": 4,
   "id": "8833f928-3a1e-494a-aa7c-09e6ec7a36a9",
   "metadata": {},
   "outputs": [],
   "source": [
    "movie_ratings = ratings.merge(movies, on=\"movieId\")"
   ]
  },
  {
   "cell_type": "code",
   "execution_count": 5,
   "id": "80f55b85-364b-4f1a-ab75-ac882845fcde",
   "metadata": {},
   "outputs": [
    {
     "data": {
      "text/html": [
       "<div>\n",
       "<style scoped>\n",
       "    .dataframe tbody tr th:only-of-type {\n",
       "        vertical-align: middle;\n",
       "    }\n",
       "\n",
       "    .dataframe tbody tr th {\n",
       "        vertical-align: top;\n",
       "    }\n",
       "\n",
       "    .dataframe thead th {\n",
       "        text-align: right;\n",
       "    }\n",
       "</style>\n",
       "<table border=\"1\" class=\"dataframe\">\n",
       "  <thead>\n",
       "    <tr style=\"text-align: right;\">\n",
       "      <th></th>\n",
       "      <th>userId</th>\n",
       "      <th>movieId</th>\n",
       "      <th>rating</th>\n",
       "      <th>timestamp</th>\n",
       "      <th>title</th>\n",
       "      <th>genres</th>\n",
       "    </tr>\n",
       "  </thead>\n",
       "  <tbody>\n",
       "    <tr>\n",
       "      <th>0</th>\n",
       "      <td>1</td>\n",
       "      <td>296</td>\n",
       "      <td>5.0</td>\n",
       "      <td>1147880044</td>\n",
       "      <td>Pulp Fiction (1994)</td>\n",
       "      <td>Comedy|Crime|Drama|Thriller</td>\n",
       "    </tr>\n",
       "    <tr>\n",
       "      <th>1</th>\n",
       "      <td>1</td>\n",
       "      <td>306</td>\n",
       "      <td>3.5</td>\n",
       "      <td>1147868817</td>\n",
       "      <td>Three Colors: Red (Trois couleurs: Rouge) (1994)</td>\n",
       "      <td>Drama</td>\n",
       "    </tr>\n",
       "    <tr>\n",
       "      <th>2</th>\n",
       "      <td>1</td>\n",
       "      <td>307</td>\n",
       "      <td>5.0</td>\n",
       "      <td>1147868828</td>\n",
       "      <td>Three Colors: Blue (Trois couleurs: Bleu) (1993)</td>\n",
       "      <td>Drama</td>\n",
       "    </tr>\n",
       "    <tr>\n",
       "      <th>3</th>\n",
       "      <td>1</td>\n",
       "      <td>665</td>\n",
       "      <td>5.0</td>\n",
       "      <td>1147878820</td>\n",
       "      <td>Underground (1995)</td>\n",
       "      <td>Comedy|Drama|War</td>\n",
       "    </tr>\n",
       "    <tr>\n",
       "      <th>4</th>\n",
       "      <td>1</td>\n",
       "      <td>899</td>\n",
       "      <td>3.5</td>\n",
       "      <td>1147868510</td>\n",
       "      <td>Singin' in the Rain (1952)</td>\n",
       "      <td>Comedy|Musical|Romance</td>\n",
       "    </tr>\n",
       "  </tbody>\n",
       "</table>\n",
       "</div>"
      ],
      "text/plain": [
       "   userId  movieId  rating   timestamp  \\\n",
       "0       1      296     5.0  1147880044   \n",
       "1       1      306     3.5  1147868817   \n",
       "2       1      307     5.0  1147868828   \n",
       "3       1      665     5.0  1147878820   \n",
       "4       1      899     3.5  1147868510   \n",
       "\n",
       "                                              title  \\\n",
       "0                               Pulp Fiction (1994)   \n",
       "1  Three Colors: Red (Trois couleurs: Rouge) (1994)   \n",
       "2  Three Colors: Blue (Trois couleurs: Bleu) (1993)   \n",
       "3                                Underground (1995)   \n",
       "4                        Singin' in the Rain (1952)   \n",
       "\n",
       "                        genres  \n",
       "0  Comedy|Crime|Drama|Thriller  \n",
       "1                        Drama  \n",
       "2                        Drama  \n",
       "3             Comedy|Drama|War  \n",
       "4       Comedy|Musical|Romance  "
      ]
     },
     "execution_count": 5,
     "metadata": {},
     "output_type": "execute_result"
    }
   ],
   "source": [
    "movie_ratings.head()"
   ]
  },
  {
   "cell_type": "code",
   "execution_count": 5,
   "id": "850b0c86-5fae-4265-ab96-2ba8f9f57f6d",
   "metadata": {},
   "outputs": [],
   "source": [
    "n_reviews = movie_ratings[\"timestamp\"].value_counts().reset_index()"
   ]
  },
  {
   "cell_type": "code",
   "execution_count": 7,
   "id": "c3df59d9-56ea-4d65-a6c1-94b7e283be8e",
   "metadata": {},
   "outputs": [],
   "source": [
    "sorted_ratings = movie_ratings.sort_values(by=\"timestamp\")"
   ]
  },
  {
   "cell_type": "markdown",
   "id": "3abd3689-ce0f-4c4a-9ec7-a64a3df63e04",
   "metadata": {},
   "source": [
    "# If Train and Validation\n",
    "## Train Time Margin:\n",
    "timestamp < 1421944985\n",
    "## Test Time Margin:\n",
    "1421944985 <= timestamp < 1515033908\n",
    "## Validation Time Margin:\n",
    "1515033908 <= timestamp\n",
    "# If just Validation\n",
    "## Train Time Margin:\n",
    "timestamp < 1466837397\n",
    "## Validation Time Margin:\n",
    "1466837397 <= timestamp"
   ]
  },
  {
   "cell_type": "code",
   "execution_count": 12,
   "id": "945c95e3-183e-4b67-bf0b-159f567b43c6",
   "metadata": {},
   "outputs": [],
   "source": [
    "fraction = 0.8\n",
    "train_rating = sorted_ratings[:int(fraction * len(sorted_ratings))]\n",
    "val_rating =  sorted_ratings[int(fraction * len(sorted_ratings)):]"
   ]
  },
  {
   "cell_type": "code",
   "execution_count": 16,
   "id": "aed3c49d-8fe7-44b4-a670-b567579e4ba7",
   "metadata": {},
   "outputs": [],
   "source": [
    "val_user_ids = set(val_rating[\"userId\"])\n",
    "train_user_ids = set(train_rating[\"userId\"])"
   ]
  },
  {
   "cell_type": "code",
   "execution_count": 17,
   "id": "69bb7d6e-92d7-4c67-8bf2-da2ce17cc477",
   "metadata": {},
   "outputs": [
    {
     "data": {
      "text/plain": [
       "6401"
      ]
     },
     "execution_count": 17,
     "metadata": {},
     "output_type": "execute_result"
    }
   ],
   "source": [
    "len(val_user_ids & train_user_ids)"
   ]
  },
  {
   "cell_type": "code",
   "execution_count": null,
   "id": "d8ddabc7-8830-40f3-b4ed-c7f3056d4667",
   "metadata": {},
   "outputs": [],
   "source": []
  }
 ],
 "metadata": {
  "kernelspec": {
   "display_name": "Python 3 (ipykernel)",
   "language": "python",
   "name": "python3"
  },
  "language_info": {
   "codemirror_mode": {
    "name": "ipython",
    "version": 3
   },
   "file_extension": ".py",
   "mimetype": "text/x-python",
   "name": "python",
   "nbconvert_exporter": "python",
   "pygments_lexer": "ipython3",
   "version": "3.11.7"
  }
 },
 "nbformat": 4,
 "nbformat_minor": 5
}
